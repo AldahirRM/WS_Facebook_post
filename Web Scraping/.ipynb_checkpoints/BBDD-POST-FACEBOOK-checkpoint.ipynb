{
 "cells": [
  {
   "cell_type": "code",
   "execution_count": 6,
   "id": "37711baa",
   "metadata": {},
   "outputs": [],
   "source": [
    "import pandas as pd\n",
    "import numpy as np\n",
    "from sys import exit\n",
    "import re\n",
    "import calendar\n",
    "import time\n",
    "import os\n",
    "import platform\n",
    "import sys\n",
    "import time\n",
    "from urllib.request import urlretrieve #pip install resumable-urlretrieve\n",
    "from selenium.webdriver.common.keys import Keys\n",
    "from selenium import webdriver\n",
    "from selenium.common.exceptions import TimeoutException, NoSuchElementException\n",
    "from selenium.webdriver.chrome.options import Options\n",
    "from selenium.webdriver.common.by import By\n",
    "from selenium.webdriver.support import expected_conditions as EC\n",
    "from selenium.webdriver.support.ui import WebDriverWait\n",
    "from selenium.webdriver.common.action_chains import ActionChains\n",
    "from PIL import Image"
   ]
  },
  {
   "cell_type": "code",
   "execution_count": 17,
   "id": "cbcea455",
   "metadata": {},
   "outputs": [
    {
     "name": "stderr",
     "output_type": "stream",
     "text": [
      "C:\\Users\\ALDAHI~1.ROJ\\AppData\\Local\\Temp/ipykernel_30388/716778914.py:6: DeprecationWarning: executable_path has been deprecated, please pass in a Service object\n",
      "  driver=webdriver.Chrome(\"chromedriver.exe\",options=options)\n"
     ]
    }
   ],
   "source": [
    "options = Options()\n",
    "options.add_argument(\"--disable-notifications\")\n",
    "options.add_argument(\"--disable-infobars\")\n",
    "options.add_argument(\"--mute-audio\")\n",
    "#options.add_argument(\"--start-maximized\")\n",
    "driver=webdriver.Chrome(\"chromedriver.exe\",options=options)\n",
    "driver.get(\"https://www.facebook.com\")\n",
    "time.sleep(2)"
   ]
  },
  {
   "cell_type": "code",
   "execution_count": 18,
   "id": "88bda973",
   "metadata": {},
   "outputs": [],
   "source": [
    "#Necesitamos las credenciales para acceder, iniciamos sesion\n",
    "driver.find_element(By.XPATH,\"//input[contains(@id,'email')]\").send_keys(\"alda.1208@hotmail.com\")\n",
    "driver.find_element(By.XPATH,\"//input[contains(@id,'pass')]\").send_keys(\"printositaf\")\n",
    "driver.find_element(By.XPATH,\"//button[contains(@name,'login')]\").click()"
   ]
  },
  {
   "cell_type": "code",
   "execution_count": 9,
   "id": "ffb807b7",
   "metadata": {},
   "outputs": [],
   "source": [
    "#AQUI PUEDO CAMBIAR DE QUE FAN PAGE QUIERO SACAR LA INFO\n",
    "#driver.get(\"https://www.facebook.com/aldahirkevin.rojasmato/\")\n",
    "#time.sleep(2)\n",
    "#bajar=\"window.scrollTo(0,\"+str(250)+\")\"\n",
    "#driver.execute_script(bajar)\n",
    "#time.sleep(2)"
   ]
  },
  {
   "cell_type": "code",
   "execution_count": 21,
   "id": "2a3be646",
   "metadata": {},
   "outputs": [
    {
     "name": "stderr",
     "output_type": "stream",
     "text": [
      "C:\\Users\\ALDAHI~1.ROJ\\AppData\\Local\\Temp/ipykernel_30388/1895763108.py:100: DeprecationWarning: find_element_by_* commands are deprecated. Please use find_element() instead\n",
      "  nom=driver.find_element_by_xpath('//div[{}]/div/div/div[2]/div[1]/div/div/div[1]/span//div[contains(@class,\"q9uorilb\")]/a'.format(j)).text\n"
     ]
    },
    {
     "name": "stdout",
     "output_type": "stream",
     "text": [
      "Bruno SN\n",
      "Anelliv Tello\n",
      "Jose Carlos Gutierrez\n",
      "Abraham Herrera\n",
      "\n",
      "\n",
      "\n",
      "\n"
     ]
    },
    {
     "ename": "NoSuchElementException",
     "evalue": "Message: no such element: Unable to locate element: {\"method\":\"xpath\",\"selector\":\"//span[contains(@aria-label,'Consulta quién ha reaccionado a esto')]\"}\n  (Session info: chrome=100.0.4896.127)\nStacktrace:\nBacktrace:\n\tOrdinal0 [0x00C77413+2389011]\n\tOrdinal0 [0x00C09F61+1941345]\n\tOrdinal0 [0x00AFC658+837208]\n\tOrdinal0 [0x00B291DD+1020381]\n\tOrdinal0 [0x00B2949B+1021083]\n\tOrdinal0 [0x00B56032+1204274]\n\tOrdinal0 [0x00B44194+1130900]\n\tOrdinal0 [0x00B54302+1196802]\n\tOrdinal0 [0x00B43F66+1130342]\n\tOrdinal0 [0x00B1E546+976198]\n\tOrdinal0 [0x00B1F456+980054]\n\tGetHandleVerifier [0x00E29632+1727522]\n\tGetHandleVerifier [0x00EDBA4D+2457661]\n\tGetHandleVerifier [0x00D0EB81+569713]\n\tGetHandleVerifier [0x00D0DD76+566118]\n\tOrdinal0 [0x00C10B2B+1968939]\n\tOrdinal0 [0x00C15988+1989000]\n\tOrdinal0 [0x00C15A75+1989237]\n\tOrdinal0 [0x00C1ECB1+2026673]\n\tBaseThreadInitThunk [0x7614FA29+25]\n\tRtlGetAppContainerNamedObjectPath [0x773B7A7E+286]\n\tRtlGetAppContainerNamedObjectPath [0x773B7A4E+238]\n",
     "output_type": "error",
     "traceback": [
      "\u001b[1;31m---------------------------------------------------------------------------\u001b[0m",
      "\u001b[1;31mNoSuchElementException\u001b[0m                    Traceback (most recent call last)",
      "\u001b[1;32mC:\\Users\\ALDAHI~1.ROJ\\AppData\\Local\\Temp/ipykernel_30388/1895763108.py\u001b[0m in \u001b[0;36m<module>\u001b[1;34m\u001b[0m\n\u001b[0;32m     23\u001b[0m     \u001b[0mtexto\u001b[0m\u001b[1;33m=\u001b[0m\u001b[0mtexto\u001b[0m\u001b[1;33m.\u001b[0m\u001b[0mtext\u001b[0m\u001b[1;33m\u001b[0m\u001b[1;33m\u001b[0m\u001b[0m\n\u001b[0;32m     24\u001b[0m     \u001b[1;31m# Damos click a las reacciones para ver reacción por reacción\u001b[0m\u001b[1;33m\u001b[0m\u001b[1;33m\u001b[0m\u001b[0m\n\u001b[1;32m---> 25\u001b[1;33m     \u001b[0mdriver\u001b[0m\u001b[1;33m.\u001b[0m\u001b[0mfind_element\u001b[0m\u001b[1;33m(\u001b[0m\u001b[0mBy\u001b[0m\u001b[1;33m.\u001b[0m\u001b[0mXPATH\u001b[0m\u001b[1;33m,\u001b[0m\u001b[1;34m\"//span[contains(@aria-label,'Consulta quién ha reaccionado a esto')]\"\u001b[0m\u001b[1;33m)\u001b[0m\u001b[1;33m.\u001b[0m\u001b[0mclick\u001b[0m\u001b[1;33m(\u001b[0m\u001b[1;33m)\u001b[0m\u001b[1;33m\u001b[0m\u001b[1;33m\u001b[0m\u001b[0m\n\u001b[0m\u001b[0;32m     26\u001b[0m     \u001b[0mtime\u001b[0m\u001b[1;33m.\u001b[0m\u001b[0msleep\u001b[0m\u001b[1;33m(\u001b[0m\u001b[1;36m2\u001b[0m\u001b[1;33m)\u001b[0m\u001b[1;33m\u001b[0m\u001b[1;33m\u001b[0m\u001b[0m\n\u001b[0;32m     27\u001b[0m     \u001b[1;31m# Encontramos el número de reacciones distintas\u001b[0m\u001b[1;33m\u001b[0m\u001b[1;33m\u001b[0m\u001b[0m\n",
      "\u001b[1;32m~\\Anaconda3\\lib\\site-packages\\selenium\\webdriver\\remote\\webdriver.py\u001b[0m in \u001b[0;36mfind_element\u001b[1;34m(self, by, value)\u001b[0m\n\u001b[0;32m   1242\u001b[0m             \u001b[0mvalue\u001b[0m \u001b[1;33m=\u001b[0m \u001b[1;34m'[name=\"%s\"]'\u001b[0m \u001b[1;33m%\u001b[0m \u001b[0mvalue\u001b[0m\u001b[1;33m\u001b[0m\u001b[1;33m\u001b[0m\u001b[0m\n\u001b[0;32m   1243\u001b[0m \u001b[1;33m\u001b[0m\u001b[0m\n\u001b[1;32m-> 1244\u001b[1;33m         return self.execute(Command.FIND_ELEMENT, {\n\u001b[0m\u001b[0;32m   1245\u001b[0m             \u001b[1;34m'using'\u001b[0m\u001b[1;33m:\u001b[0m \u001b[0mby\u001b[0m\u001b[1;33m,\u001b[0m\u001b[1;33m\u001b[0m\u001b[1;33m\u001b[0m\u001b[0m\n\u001b[0;32m   1246\u001b[0m             'value': value})['value']\n",
      "\u001b[1;32m~\\Anaconda3\\lib\\site-packages\\selenium\\webdriver\\remote\\webdriver.py\u001b[0m in \u001b[0;36mexecute\u001b[1;34m(self, driver_command, params)\u001b[0m\n\u001b[0;32m    422\u001b[0m         \u001b[0mresponse\u001b[0m \u001b[1;33m=\u001b[0m \u001b[0mself\u001b[0m\u001b[1;33m.\u001b[0m\u001b[0mcommand_executor\u001b[0m\u001b[1;33m.\u001b[0m\u001b[0mexecute\u001b[0m\u001b[1;33m(\u001b[0m\u001b[0mdriver_command\u001b[0m\u001b[1;33m,\u001b[0m \u001b[0mparams\u001b[0m\u001b[1;33m)\u001b[0m\u001b[1;33m\u001b[0m\u001b[1;33m\u001b[0m\u001b[0m\n\u001b[0;32m    423\u001b[0m         \u001b[1;32mif\u001b[0m \u001b[0mresponse\u001b[0m\u001b[1;33m:\u001b[0m\u001b[1;33m\u001b[0m\u001b[1;33m\u001b[0m\u001b[0m\n\u001b[1;32m--> 424\u001b[1;33m             \u001b[0mself\u001b[0m\u001b[1;33m.\u001b[0m\u001b[0merror_handler\u001b[0m\u001b[1;33m.\u001b[0m\u001b[0mcheck_response\u001b[0m\u001b[1;33m(\u001b[0m\u001b[0mresponse\u001b[0m\u001b[1;33m)\u001b[0m\u001b[1;33m\u001b[0m\u001b[1;33m\u001b[0m\u001b[0m\n\u001b[0m\u001b[0;32m    425\u001b[0m             response['value'] = self._unwrap_value(\n\u001b[0;32m    426\u001b[0m                 response.get('value', None))\n",
      "\u001b[1;32m~\\Anaconda3\\lib\\site-packages\\selenium\\webdriver\\remote\\errorhandler.py\u001b[0m in \u001b[0;36mcheck_response\u001b[1;34m(self, response)\u001b[0m\n\u001b[0;32m    245\u001b[0m                 \u001b[0malert_text\u001b[0m \u001b[1;33m=\u001b[0m \u001b[0mvalue\u001b[0m\u001b[1;33m[\u001b[0m\u001b[1;34m'alert'\u001b[0m\u001b[1;33m]\u001b[0m\u001b[1;33m.\u001b[0m\u001b[0mget\u001b[0m\u001b[1;33m(\u001b[0m\u001b[1;34m'text'\u001b[0m\u001b[1;33m)\u001b[0m\u001b[1;33m\u001b[0m\u001b[1;33m\u001b[0m\u001b[0m\n\u001b[0;32m    246\u001b[0m             \u001b[1;32mraise\u001b[0m \u001b[0mexception_class\u001b[0m\u001b[1;33m(\u001b[0m\u001b[0mmessage\u001b[0m\u001b[1;33m,\u001b[0m \u001b[0mscreen\u001b[0m\u001b[1;33m,\u001b[0m \u001b[0mstacktrace\u001b[0m\u001b[1;33m,\u001b[0m \u001b[0malert_text\u001b[0m\u001b[1;33m)\u001b[0m  \u001b[1;31m# type: ignore[call-arg]  # mypy is not smart enough here\u001b[0m\u001b[1;33m\u001b[0m\u001b[1;33m\u001b[0m\u001b[0m\n\u001b[1;32m--> 247\u001b[1;33m         \u001b[1;32mraise\u001b[0m \u001b[0mexception_class\u001b[0m\u001b[1;33m(\u001b[0m\u001b[0mmessage\u001b[0m\u001b[1;33m,\u001b[0m \u001b[0mscreen\u001b[0m\u001b[1;33m,\u001b[0m \u001b[0mstacktrace\u001b[0m\u001b[1;33m)\u001b[0m\u001b[1;33m\u001b[0m\u001b[1;33m\u001b[0m\u001b[0m\n\u001b[0m\u001b[0;32m    248\u001b[0m \u001b[1;33m\u001b[0m\u001b[0m\n\u001b[0;32m    249\u001b[0m     \u001b[1;32mdef\u001b[0m \u001b[0m_value_or_default\u001b[0m\u001b[1;33m(\u001b[0m\u001b[0mself\u001b[0m\u001b[1;33m,\u001b[0m \u001b[0mobj\u001b[0m\u001b[1;33m:\u001b[0m \u001b[0mMapping\u001b[0m\u001b[1;33m[\u001b[0m\u001b[0m_KT\u001b[0m\u001b[1;33m,\u001b[0m \u001b[0m_VT\u001b[0m\u001b[1;33m]\u001b[0m\u001b[1;33m,\u001b[0m \u001b[0mkey\u001b[0m\u001b[1;33m:\u001b[0m \u001b[0m_KT\u001b[0m\u001b[1;33m,\u001b[0m \u001b[0mdefault\u001b[0m\u001b[1;33m:\u001b[0m \u001b[0m_VT\u001b[0m\u001b[1;33m)\u001b[0m \u001b[1;33m->\u001b[0m \u001b[0m_VT\u001b[0m\u001b[1;33m:\u001b[0m\u001b[1;33m\u001b[0m\u001b[1;33m\u001b[0m\u001b[0m\n",
      "\u001b[1;31mNoSuchElementException\u001b[0m: Message: no such element: Unable to locate element: {\"method\":\"xpath\",\"selector\":\"//span[contains(@aria-label,'Consulta quién ha reaccionado a esto')]\"}\n  (Session info: chrome=100.0.4896.127)\nStacktrace:\nBacktrace:\n\tOrdinal0 [0x00C77413+2389011]\n\tOrdinal0 [0x00C09F61+1941345]\n\tOrdinal0 [0x00AFC658+837208]\n\tOrdinal0 [0x00B291DD+1020381]\n\tOrdinal0 [0x00B2949B+1021083]\n\tOrdinal0 [0x00B56032+1204274]\n\tOrdinal0 [0x00B44194+1130900]\n\tOrdinal0 [0x00B54302+1196802]\n\tOrdinal0 [0x00B43F66+1130342]\n\tOrdinal0 [0x00B1E546+976198]\n\tOrdinal0 [0x00B1F456+980054]\n\tGetHandleVerifier [0x00E29632+1727522]\n\tGetHandleVerifier [0x00EDBA4D+2457661]\n\tGetHandleVerifier [0x00D0EB81+569713]\n\tGetHandleVerifier [0x00D0DD76+566118]\n\tOrdinal0 [0x00C10B2B+1968939]\n\tOrdinal0 [0x00C15988+1989000]\n\tOrdinal0 [0x00C15A75+1989237]\n\tOrdinal0 [0x00C1ECB1+2026673]\n\tBaseThreadInitThunk [0x7614FA29+25]\n\tRtlGetAppContainerNamedObjectPath [0x773B7A7E+286]\n\tRtlGetAppContainerNamedObjectPath [0x773B7A4E+238]\n"
     ]
    }
   ],
   "source": [
    "# Cantidad de publicaciones que quiero obtener la data\n",
    "contenido=[]\n",
    "nombres=[]\n",
    "reaccion=[]\n",
    "sticker=\"\"\n",
    "for pub_num in range(1,5):\n",
    "    driver.get(\"https://www.facebook.com/GOLPERU14\")\n",
    "    time.sleep(2)\n",
    "    bajar=\"window.scrollTo(0,\"+str(250)+\")\"\n",
    "    driver.execute_script(bajar)\n",
    "    time.sleep(2)\n",
    "    # Nos movemos a la publicación que deseamos scrapear\n",
    "    # ubicamos el driver en la fecha (puesto que ahí está el id del post, para analizar más fácil)\n",
    "    element=driver.find_element(By.XPATH,\"//div[contains(@data-pagelet,'ProfileTimeline')]/div[{}]//span[contains(@dir,'auto')]/span\".format(pub_num))\n",
    "    driver.execute_script(\"arguments[0].scrollIntoView();\",element)\n",
    "    driver.execute_script(\"scrollBy(0,-200);\")\n",
    "    element.click()\n",
    "    time.sleep(3)\n",
    "    # Volvemos arriba para no malversar el scraping\n",
    "    driver.execute_script(\"scroll(0,0);\")\n",
    "    time.sleep(2)\n",
    "    texto=driver.find_element(By.XPATH,\"//div[contains(@data-ad-preview,'message')]\")\n",
    "    texto=texto.text\n",
    "    # Damos click a las reacciones para ver reacción por reacción\n",
    "    driver.find_element(By.XPATH,\"//span[contains(@aria-label,'Consulta quién ha reaccionado a esto')]\").click()\n",
    "    time.sleep(2)\n",
    "    # Encontramos el número de reacciones distintas\n",
    "    reac_num=driver.find_elements(By.XPATH,\"//div[contains(@aria-label,'Reacciones')]//div[contains(@role,'tab')]/div/div/img[contains(@src,'http')]\")\n",
    "    like=Image.open('images/0.png')\n",
    "    love=Image.open('images/1.png')\n",
    "    haha=Image.open('images/2.png')\n",
    "    wow=Image.open('images/3.png')\n",
    "    sad=Image.open('images/4.png')\n",
    "    hate=Image.open('images/5.png')\n",
    "    care=Image.open('images/6.png')\n",
    "    # Ahora sí, damos click reacción por reacción, vemos que imagen es y la comparamos con el diccionario, retorna que tipo de reacción es, y el scraping su cantidad\n",
    "    for z in range(0,len(reac_num)):\n",
    "        if len(reac_num)==1:\n",
    "            reac=reac_num[z].get_attribute(\"src\")\n",
    "            reac_cant=driver.find_element(By.XPATH,\"//div[contains(@aria-label,'Reacciones')]//div[contains(@role,'tab')]/div/span/span\")\n",
    "            r=reac_cant[0].text\n",
    "            urlretrieve(reac,'comparar.png')\n",
    "            reaccion=Image.open('comparar.png')\n",
    "            if list(like.getdata())==list(reaccion.getdata()):\n",
    "                #print(\" likes:\",r)\n",
    "                sticker=\"Me gusta\"\n",
    "            if list(love.getdata())==list(reaccion.getdata()):\n",
    "                #print(\" loves:\",r)\n",
    "                sticker=\"Me encanta\"\n",
    "            if list(haha.getdata())==list(reaccion.getdata()):\n",
    "                #print(\" hahas:\",r)\n",
    "                sticker=\"Me divierte\"\n",
    "            if list(wow.getdata())==list(reaccion.getdata()):\n",
    "                #print(\" wows:\",r)\n",
    "                sticker=\"Me asombra\"\n",
    "            if list(sad.getdata())==list(reaccion.getdata()):\n",
    "                #print(\" sads:\",r)\n",
    "                sticker=\"Me entristese\"\n",
    "            if list(hate.getdata())==list(reaccion.getdata()):\n",
    "                #print(\" hates:\",r)\n",
    "                sticker=\"Me molesta\"\n",
    "            if list(care.getdata())==list(reaccion.getdata()):\n",
    "                #print(\" cares:\",r)\n",
    "                sticker=\"Me importa\"\n",
    "            for j in range(1,int(r)+1):\n",
    "                nom=driver.find_element_by_xpath('/html/body/div[1]/div/div[1]/div/div[4]/div/div/div[1]/div/div[2]/div/div/div/div[3]/div[1]/div[{}]/div/div/div[2]/div[1]/div/div/div[1]/span/div/a'.format(j)).text\n",
    "                contenido.append(texto)\n",
    "                nombres.append(nom)\n",
    "                reaccion.append(sticker)\n",
    "            \n",
    "        elif len(reac_num)!=1:\n",
    "            driver.find_element(By.XPATH,\"//div[contains(@aria-label,'Reacciones')]//div[contains(@role,'tab')][\"+str(z+2)+\"]\").click()\n",
    "            reac=reac_num[z].get_attribute(\"src\")\n",
    "            reac_cant=driver.find_elements(By.XPATH,\"//div[contains(@aria-label,'Reacciones')]//div[contains(@role,'tab')]/div/span/span\")\n",
    "            r=reac_cant[0].text\n",
    "            urlretrieve(reac,'comparar.png')\n",
    "            reaccion=Image.open('comparar.png')\n",
    "            if list(like.getdata())==list(reaccion.getdata()):\n",
    "                #print(\" likes:\",r)\n",
    "                sticker=\"Me gusta\"\n",
    "            if list(love.getdata())==list(reaccion.getdata()):\n",
    "                #print(\" loves:\",r)\n",
    "                sticker=\"Me encanta\"\n",
    "            if list(haha.getdata())==list(reaccion.getdata()):\n",
    "                #print(\" hahas:\",r)\n",
    "                sticker=\"Me divierte\"\n",
    "            if list(wow.getdata())==list(reaccion.getdata()):\n",
    "                #print(\" wows:\",r)\n",
    "                sticker=\"Me asombra\"\n",
    "            if list(sad.getdata())==list(reaccion.getdata()):\n",
    "                #print(\" sads:\",r)\n",
    "                sticker=\"Me entristese\"\n",
    "            if list(hate.getdata())==list(reaccion.getdata()):\n",
    "                #print(\" hates:\",r)\n",
    "                sticker=\"Me molesta\"\n",
    "            if list(care.getdata())==list(reaccion.getdata()):\n",
    "                #print(\" cares:\",r)\n",
    "                sticker=\"Me importa\"\n",
    "            for j in range(1,5):\n",
    "                nom=driver.find_element_by_xpath('//div[{}]/div/div/div[2]/div[1]/div/div/div[1]/span//div[contains(@class,\"q9uorilb\")]/a'.format(j)).text\n",
    "                print(nom)\n",
    "                #contenido.append(texto)\n",
    "                #nombres.append(nom)\n",
    "                #reaccion.append(sticker)\n",
    "        else:\n",
    "            print(pub_num,\": No tuvo reacciones\")"
   ]
  },
  {
   "cell_type": "code",
   "execution_count": null,
   "id": "46c05e62",
   "metadata": {},
   "outputs": [],
   "source": [
    "fb_post=pd.DataFrame(data=[contenido,nombres,reaccion]).transpose()\n",
    "fb_post.columns=[\"Contenido de la publicacion\",\"Nombre\",\"Reaccion\"]\n",
    "fb_post.to_excel(\"fb_posts.xlsx\",index=False)"
   ]
  },
  {
   "cell_type": "code",
   "execution_count": 27,
   "id": "233dc91b",
   "metadata": {},
   "outputs": [],
   "source": [
    "a=[]"
   ]
  },
  {
   "cell_type": "code",
   "execution_count": 28,
   "id": "9c2bfbdd",
   "metadata": {},
   "outputs": [],
   "source": [
    "a.append(1)"
   ]
  },
  {
   "cell_type": "code",
   "execution_count": 1,
   "id": "66229270",
   "metadata": {},
   "outputs": [
    {
     "name": "stdout",
     "output_type": "stream",
     "text": [
      "dfdf3\n"
     ]
    }
   ],
   "source": [
    "a=\"dfdf{}\".format(3)\n",
    "print(a)"
   ]
  }
 ],
 "metadata": {
  "kernelspec": {
   "display_name": "Python 3 (ipykernel)",
   "language": "python",
   "name": "python3"
  },
  "language_info": {
   "codemirror_mode": {
    "name": "ipython",
    "version": 3
   },
   "file_extension": ".py",
   "mimetype": "text/x-python",
   "name": "python",
   "nbconvert_exporter": "python",
   "pygments_lexer": "ipython3",
   "version": "3.9.7"
  }
 },
 "nbformat": 4,
 "nbformat_minor": 5
}
