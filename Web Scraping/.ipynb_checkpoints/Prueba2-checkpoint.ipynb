{
 "cells": [
  {
   "cell_type": "code",
   "execution_count": 6,
   "id": "fb2267d3",
   "metadata": {
    "scrolled": true
   },
   "outputs": [],
   "source": [
    "#pip install facebook-scraper\n",
    "from sys import exit\n",
    "import pandas as pd\n",
    "import numpy as np\n",
    "import os\n",
    "import time\n",
    "from facebook_scraper import get_posts\n",
    "import matplotlib.pyplot as plt\n",
    "from selenium import webdriver\n",
    "from selenium.common.exceptions import TimeoutException, NoSuchElementException\n",
    "from selenium.webdriver.chrome.options import Options\n",
    "from selenium.webdriver.common.by import By\n",
    "from selenium.webdriver.support import expected_conditions as EC\n",
    "from selenium.webdriver.support.ui import WebDriverWait"
   ]
  },
  {
   "cell_type": "code",
   "execution_count": 79,
   "id": "1bad021c",
   "metadata": {},
   "outputs": [
    {
     "name": "stderr",
     "output_type": "stream",
     "text": [
      "C:\\Users\\aldahir.rojas\\Anaconda3\\lib\\site-packages\\facebook_scraper\\facebook_scraper.py:841: UserWarning: Facebook says 'Unsupported Browser'\n",
      "  warnings.warn(f\"Facebook says 'Unsupported Browser'\")\n"
     ]
    }
   ],
   "source": [
    "posts=[]\n",
    "for post in get_posts('freshmart.pe',pages=5):\n",
    "    posts.append(post)"
   ]
  },
  {
   "cell_type": "code",
   "execution_count": 80,
   "id": "4f1a5a40",
   "metadata": {},
   "outputs": [],
   "source": [
    "#Pasamos a formato de bbdd\n",
    "raper=pd.DataFrame(posts)"
   ]
  },
  {
   "cell_type": "code",
   "execution_count": 3,
   "id": "d32eadc5",
   "metadata": {},
   "outputs": [],
   "source": [
    "#raper.iloc[:,:3]\n",
    "#raper.columns"
   ]
  },
  {
   "cell_type": "code",
   "execution_count": 2,
   "id": "c7986a5b",
   "metadata": {
    "scrolled": true
   },
   "outputs": [],
   "source": [
    "#fig,ax=plt.subplots()\n",
    "#plt.figure(figsize=(20,10))\n",
    "#plt.plot(raper[\"time\"],raper[\"likes\"])"
   ]
  },
  {
   "cell_type": "code",
   "execution_count": 120,
   "id": "68c2ee85",
   "metadata": {},
   "outputs": [],
   "source": [
    "def login(email,passw):\n",
    "    \"\"\" Logging into our own profile \"\"\"\n",
    "\n",
    "    try:\n",
    "        global driver\n",
    "\n",
    "        options = Options()\n",
    "\n",
    "        #  Code to disable notifications pop up of Chrome Browser\n",
    "        options.add_argument(\"--disable-notifications\")\n",
    "        options.add_argument(\"--disable-infobars\")\n",
    "        options.add_argument(\"--mute-audio\")\n",
    "        # options.add_argument(\"headless\")\n",
    "\n",
    "        try:\n",
    "            driver=webdriver.Chrome(\"chromedriver.exe\")\n",
    "            print(\"you logged in successfully. Let's hip hop\")\n",
    "        except:\n",
    "            print(\"you need web driver\")\n",
    "            exit()\n",
    "        driver.get(\"https://www.facebook.com\")\n",
    "        #driver.maxime_window()\n",
    "        \n",
    "        driver.find_element_by_name(\"email\").send_keys(email)\n",
    "        driver.find_element_by_name(\"pass\").send_keys(passw)\n",
    "        \n",
    "        driver.find_element_by_name(\"login\").click()\n",
    "    except:\n",
    "        print(\"maybe something is wrong\")"
   ]
  },
  {
   "cell_type": "code",
   "execution_count": 119,
   "id": "07a1f617",
   "metadata": {},
   "outputs": [],
   "source": [
    "def main():\n",
    "    with open(\"credentials.txt\") as f:\n",
    "        email=f.readline().split('\"')[1]\n",
    "        passw=f.readline().split('\"')[1]\n",
    "        \n",
    "        if email==\"\" or passw==\"\":\n",
    "            print(\"Your mail or password is empty\")\n",
    "            exit()\n",
    "            \n",
    "    ids=[\"https://www.facebook.com/\" + line.split(\"/\")[-1] for line in open(\"input.txt\", newline=\"\\n\")]\n",
    "    if len(ids)>0:\n",
    "        print(email)\n",
    "        print(passw)\n",
    "        login(email,passw)\n",
    "        \n",
    "        print(ids)\n",
    "        driver.execute_script(\"window.open('');\")\n",
    "        time.sleep(2)\n",
    "        driver.switch_to.window(driver.window_handles[1])\n",
    "        driver.get(ids[0])\n",
    "    else:\n",
    "        print(\"Input file is empty\")\n",
    "        "
   ]
  },
  {
   "cell_type": "code",
   "execution_count": 4,
   "id": "8002c1b0",
   "metadata": {},
   "outputs": [],
   "source": [
    "main()"
   ]
  },
  {
   "cell_type": "code",
   "execution_count": null,
   "id": "4229aa21",
   "metadata": {},
   "outputs": [],
   "source": []
  }
 ],
 "metadata": {
  "kernelspec": {
   "display_name": "Python 3 (ipykernel)",
   "language": "python",
   "name": "python3"
  },
  "language_info": {
   "codemirror_mode": {
    "name": "ipython",
    "version": 3
   },
   "file_extension": ".py",
   "mimetype": "text/x-python",
   "name": "python",
   "nbconvert_exporter": "python",
   "pygments_lexer": "ipython3",
   "version": "3.9.7"
  }
 },
 "nbformat": 4,
 "nbformat_minor": 5
}
