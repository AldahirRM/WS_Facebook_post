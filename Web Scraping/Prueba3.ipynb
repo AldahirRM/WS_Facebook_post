{
 "cells": [
  {
   "cell_type": "code",
   "execution_count": 8,
   "id": "73b48ed8",
   "metadata": {},
   "outputs": [],
   "source": [
    "from sys import exit\n",
    "import re\n",
    "import calendar\n",
    "import time\n",
    "import os\n",
    "import platform\n",
    "import sys\n",
    "import time\n",
    "from urllib.request import urlretrieve #pip install resumable-urlretrieve\n",
    "from selenium.webdriver.common.keys import Keys\n",
    "from selenium import webdriver\n",
    "from selenium.common.exceptions import TimeoutException, NoSuchElementException\n",
    "from selenium.webdriver.chrome.options import Options\n",
    "from selenium.webdriver.common.by import By\n",
    "from selenium.webdriver.support import expected_conditions as EC\n",
    "from selenium.webdriver.support.ui import WebDriverWait\n",
    "from selenium.webdriver.common.action_chains import ActionChains\n",
    "from PIL import Image"
   ]
  },
  {
   "cell_type": "code",
   "execution_count": 56,
   "id": "59067846",
   "metadata": {},
   "outputs": [
    {
     "name": "stderr",
     "output_type": "stream",
     "text": [
      "C:\\Users\\ALDAHI~1.ROJ\\AppData\\Local\\Temp/ipykernel_8752/716778914.py:6: DeprecationWarning: executable_path has been deprecated, please pass in a Service object\n",
      "  driver=webdriver.Chrome(\"chromedriver.exe\",options=options)\n"
     ]
    }
   ],
   "source": [
    "options = Options()\n",
    "options.add_argument(\"--disable-notifications\")\n",
    "options.add_argument(\"--disable-infobars\")\n",
    "options.add_argument(\"--mute-audio\")\n",
    "#options.add_argument(\"--start-maximized\")\n",
    "driver=webdriver.Chrome(\"chromedriver.exe\",options=options)\n",
    "driver.get(\"https://www.facebook.com\")\n",
    "time.sleep(2)"
   ]
  },
  {
   "cell_type": "code",
   "execution_count": 57,
   "id": "be241c01",
   "metadata": {},
   "outputs": [],
   "source": [
    "#Necesitamos las credenciales para acceder, iniciamos sesion\n",
    "driver.find_element(By.XPATH,\"//input[contains(@id,'email')]\").send_keys(\"\")\n",
    "driver.find_element(By.XPATH,\"//input[contains(@id,'pass')]\").send_keys(\"\")\n",
    "driver.find_element(By.XPATH,\"//button[contains(@name,'login')]\").click()"
   ]
  },
  {
   "cell_type": "code",
   "execution_count": 58,
   "id": "e405e4ac",
   "metadata": {},
   "outputs": [],
   "source": [
    "driver.get(\"https://www.facebook.com/aldahirkevin.rojasmato/\")\n",
    "time.sleep(2)\n",
    "bajar=\"window.scrollTo(0,\"+str(250)+\")\"\n",
    "driver.execute_script(bajar)\n",
    "time.sleep(2)"
   ]
  },
  {
   "cell_type": "code",
   "execution_count": 59,
   "id": "6fe062b2",
   "metadata": {
    "scrolled": true
   },
   "outputs": [],
   "source": [
    "# Nos movemos a la publicación que deseamos scrapear\n",
    "pub_num=1\n",
    "# ubicamos el driver en la fecha (puesto que ahí está el id del post, para analizar más fácil)\n",
    "element=driver.find_element(By.XPATH,\"//div[contains(@data-pagelet,'ProfileTimeline')]/div[\"+str(pub_num)+\"]//span[contains(@dir,'auto')]/span\")\n",
    "driver.execute_script(\"arguments[0].scrollIntoView();\",element)\n",
    "driver.execute_script(\"scrollBy(0,-200);\")"
   ]
  },
  {
   "cell_type": "code",
   "execution_count": 60,
   "id": "b90983c6",
   "metadata": {},
   "outputs": [],
   "source": [
    "element.click()\n",
    "time.sleep(3)"
   ]
  },
  {
   "cell_type": "code",
   "execution_count": 61,
   "id": "5b552aeb",
   "metadata": {},
   "outputs": [],
   "source": [
    "# Volvemos arriba para no malversar el scraping\n",
    "driver.execute_script(\"scroll(0,0);\")\n",
    "time.sleep(2)"
   ]
  },
  {
   "cell_type": "code",
   "execution_count": 62,
   "id": "5ad0ba7c",
   "metadata": {
    "scrolled": true
   },
   "outputs": [
    {
     "name": "stdout",
     "output_type": "stream",
     "text": [
      "Bruno Aldahir Anthony Eros Anderson Soto Andres Diego Huchiyama\n"
     ]
    }
   ],
   "source": [
    "# Obtenemos el texto de la publicación\n",
    "texto=driver.find_element(By.XPATH,\"//div[contains(@data-ad-preview,'message')]\")\n",
    "texto=texto.text\n",
    "print(texto)"
   ]
  },
  {
   "cell_type": "code",
   "execution_count": 72,
   "id": "87ae453f",
   "metadata": {},
   "outputs": [],
   "source": [
    "# Damos click a las reacciones para ver reacción por reacción\n",
    "driver.find_element(By.XPATH,\"//span[contains(@aria-label,'Consulta quién ha reaccionado a esto')]\").click()\n",
    "time.sleep(2)"
   ]
  },
  {
   "cell_type": "code",
   "execution_count": 69,
   "id": "9cccfe64",
   "metadata": {},
   "outputs": [
    {
     "name": "stderr",
     "output_type": "stream",
     "text": [
      "C:\\Users\\ALDAHI~1.ROJ\\AppData\\Local\\Temp/ipykernel_8752/2315572916.py:3: DeprecationWarning: find_elements_by_* commands are deprecated. Please use find_elements() instead\n",
      "  pr=driver.find_elements_by_xpath(\"//div[@class='q9uorilb']\")\n"
     ]
    }
   ],
   "source": [
    "#extra yo\n",
    "#for val in driver.find_element_by_xpath()(\"//div[contains(@class,'q9uorilb')]/a\"):\n",
    "pr=driver.find_elements_by_xpath(\"//div[@class='q9uorilb']\")\n"
   ]
  },
  {
   "cell_type": "code",
   "execution_count": 83,
   "id": "9f1c48bc",
   "metadata": {},
   "outputs": [
    {
     "name": "stderr",
     "output_type": "stream",
     "text": [
      "C:\\Users\\ALDAHI~1.ROJ\\AppData\\Local\\Temp/ipykernel_8752/4197721604.py:1: DeprecationWarning: find_element_by_* commands are deprecated. Please use find_element() instead\n",
      "  e=driver.find_element_by_xpath(\"//div[7]/div/div/div[2]/div[1]/div/div/div[1]/span//div[contains(@class,'q9uorilb')]/a\")\n"
     ]
    }
   ],
   "source": [
    "e=driver.find_element_by_xpath(\"//div[7]/div/div/div[2]/div[1]/div/div/div[1]/span//div[contains(@class,'q9uorilb')]/a\")\n",
    "#act=ActionChains(driver)\n",
    "#act.move_to_element(e).perform()"
   ]
  },
  {
   "cell_type": "code",
   "execution_count": 84,
   "id": "8b63fbe6",
   "metadata": {},
   "outputs": [],
   "source": [
    "driver.execute_script(\"arguments[0].scrollIntoView();\", e)"
   ]
  },
  {
   "cell_type": "code",
   "execution_count": 35,
   "id": "5ce1edf4",
   "metadata": {},
   "outputs": [
    {
     "data": {
      "text/plain": [
       "[<selenium.webdriver.remote.webelement.WebElement (session=\"a85576da8eeb9409c14f47506248b822\", element=\"b5fecfde-4e0a-4180-a1cf-dfb9b6f85907\")>,\n",
       " <selenium.webdriver.remote.webelement.WebElement (session=\"a85576da8eeb9409c14f47506248b822\", element=\"4a61db23-7276-4c72-b6a0-db10b189cd7e\")>]"
      ]
     },
     "execution_count": 35,
     "metadata": {},
     "output_type": "execute_result"
    }
   ],
   "source": [
    "# Encontramos el número de reacciones distintas\n",
    "reac_num=driver.find_elements(By.XPATH,\"//div[contains(@aria-label,'Reacciones')]//div[contains(@role,'tab')]/div/div/img[contains(@src,'http')]\")\n",
    "reac_num"
   ]
  },
  {
   "cell_type": "code",
   "execution_count": 54,
   "id": "cb6bad00",
   "metadata": {},
   "outputs": [
    {
     "data": {
      "text/plain": [
       "<selenium.webdriver.remote.webelement.WebElement (session=\"a85576da8eeb9409c14f47506248b822\", element=\"b5fecfde-4e0a-4180-a1cf-dfb9b6f85907\")>"
      ]
     },
     "execution_count": 54,
     "metadata": {},
     "output_type": "execute_result"
    }
   ],
   "source": [
    "reac_num[0]"
   ]
  },
  {
   "cell_type": "code",
   "execution_count": 41,
   "id": "ab14258e",
   "metadata": {},
   "outputs": [],
   "source": [
    "# Cargamos un diccionario de imágenes de reacciones para su reconocimiento\n",
    "like=Image.open('images/0.png')\n",
    "love=Image.open('images/1.png')\n",
    "haha=Image.open('images/2.png')\n",
    "wow=Image.open('images/3.png')\n",
    "sad=Image.open('images/4.png')\n",
    "hate=Image.open('images/5.png')\n",
    "care=Image.open('images/6.png')"
   ]
  },
  {
   "cell_type": "code",
   "execution_count": 42,
   "id": "e7204e10",
   "metadata": {},
   "outputs": [
    {
     "name": "stdout",
     "output_type": "stream",
     "text": [
      " hahas: 18\n",
      " loves: 6\n"
     ]
    }
   ],
   "source": [
    "# Ahora sí, damos click reacción por reacción, vemos que imagen es y la comparamos con el diccionario, retorna que tipo de reacción es, y el scraping su cantidad\n",
    "for z in range(0,len(reac_num)):\n",
    "    if len(reac_num)==1:\n",
    "        reac=reac_num[z].get_attribute(\"src\")\n",
    "        reac_cant=driver.find_element(By.XPATH,\"//div[contains(@aria-label,'Reacciones')]//div[contains(@role,'tab')]/div/span/span\")\n",
    "        r=reac_cant[0].text\n",
    "        urlretrieve(reac,'comparar.png')\n",
    "        reaccion=Image.open('comparar.png')\n",
    "        if list(like.getdata())==list(reaccion.getdata()):\n",
    "            print(\" likes:\",r)\n",
    "        if list(love.getdata())==list(reaccion.getdata()):\n",
    "            print(\" loves:\",r)\n",
    "        if list(haha.getdata())==list(reaccion.getdata()):\n",
    "            print(\" hahas:\",r)\n",
    "        if list(wow.getdata())==list(reaccion.getdata()):\n",
    "            print(\" wows:\",r)\n",
    "        if list(sad.getdata())==list(reaccion.getdata()):\n",
    "            print(\" sads:\",r)\n",
    "        if list(hate.getdata())==list(reaccion.getdata()):\n",
    "            print(\" hates:\",r)\n",
    "        if list(care.getdata())==list(reaccion.getdata()):\n",
    "            print(\" cares:\",r)\n",
    "    else:\n",
    "        driver.find_element(By.XPATH,\"//div[contains(@aria-label,'Reacciones')]//div[contains(@role,'tab')][\"+str(z+2)+\"]\").click()\n",
    "        reac=reac_num[z].get_attribute(\"src\")\n",
    "        reac_cant=driver.find_elements(By.XPATH,\"//div[contains(@aria-label,'Reacciones')]//div[contains(@role,'tab')]/div/span/span\")\n",
    "        r=reac_cant[0].text\n",
    "        urlretrieve(reac,'comparar.png')\n",
    "        reaccion=Image.open('comparar.png')\n",
    "        if list(like.getdata())==list(reaccion.getdata()):\n",
    "            print(\" likes:\",r)\n",
    "        if list(love.getdata())==list(reaccion.getdata()):\n",
    "            print(\" loves:\",r)\n",
    "        if list(haha.getdata())==list(reaccion.getdata()):\n",
    "            print(\" hahas:\",r)\n",
    "        if list(wow.getdata())==list(reaccion.getdata()):\n",
    "            print(\" wows:\",r)\n",
    "        if list(sad.getdata())==list(reaccion.getdata()):\n",
    "            print(\" sads:\",r)\n",
    "        if list(hate.getdata())==list(reaccion.getdata()):\n",
    "            print(\" hates:\",r)\n",
    "        if list(care.getdata())==list(reaccion.getdata()):\n",
    "            print(\" cares:\",r)"
   ]
  },
  {
   "cell_type": "code",
   "execution_count": null,
   "id": "a0cc996b",
   "metadata": {},
   "outputs": [],
   "source": []
  },
  {
   "cell_type": "code",
   "execution_count": null,
   "id": "7107a6dd",
   "metadata": {},
   "outputs": [],
   "source": []
  },
  {
   "cell_type": "code",
   "execution_count": null,
   "id": "3113c0c6",
   "metadata": {},
   "outputs": [],
   "source": []
  }
 ],
 "metadata": {
  "kernelspec": {
   "display_name": "Python 3 (ipykernel)",
   "language": "python",
   "name": "python3"
  },
  "language_info": {
   "codemirror_mode": {
    "name": "ipython",
    "version": 3
   },
   "file_extension": ".py",
   "mimetype": "text/x-python",
   "name": "python",
   "nbconvert_exporter": "python",
   "pygments_lexer": "ipython3",
   "version": "3.9.7"
  }
 },
 "nbformat": 4,
 "nbformat_minor": 5
}
