{
 "cells": [
  {
   "cell_type": "code",
   "execution_count": 7,
   "id": "cd1a7c18",
   "metadata": {},
   "outputs": [
    {
     "name": "stderr",
     "output_type": "stream",
     "text": [
      "C:\\Users\\ALDAHI~1.ROJ\\AppData\\Local\\Temp/ipykernel_43508/1998024271.py:6: DeprecationWarning: executable_path has been deprecated, please pass in a Service object\n",
      "  chrome_driver=webdriver.Chrome(\"chromedriver.exe\")\n",
      "C:\\Users\\ALDAHI~1.ROJ\\AppData\\Local\\Temp/ipykernel_43508/1998024271.py:9: DeprecationWarning: find_element_by_* commands are deprecated. Please use find_element() instead\n",
      "  codigo=chrome_driver.find_element_by_id(\"login_codUni\")\n",
      "C:\\Users\\ALDAHI~1.ROJ\\AppData\\Local\\Temp/ipykernel_43508/1998024271.py:11: DeprecationWarning: find_element_by_* commands are deprecated. Please use find_element() instead\n",
      "  contra=chrome_driver.find_element_by_id(\"login_clave\")\n",
      "C:\\Users\\ALDAHI~1.ROJ\\AppData\\Local\\Temp/ipykernel_43508/1998024271.py:16: DeprecationWarning: find_element_by_* commands are deprecated. Please use find_element() instead\n",
      "  boton=chrome_driver.find_element_by_id(\"boton\")\n"
     ]
    }
   ],
   "source": [
    "import unittest\n",
    "from selenium.webdriver.common.keys import Keys\n",
    "from selenium import webdriver\n",
    "import time\n",
    "\n",
    "chrome_driver=webdriver.Chrome(\"chromedriver.exe\")\n",
    "chrome_driver.get(\"https://www.academico.uni.edu.pe/alumno/entra\")\n",
    "\n",
    "codigo=chrome_driver.find_element_by_id(\"login_codUni\")\n",
    "codigo.send_keys(\"20160228D\")\n",
    "contra=chrome_driver.find_element_by_id(\"login_clave\")\n",
    "contra.send_keys(\"711919\")\n",
    "\n",
    "time.sleep(2)\n",
    "\n",
    "boton=chrome_driver.find_element_by_id(\"boton\")\n",
    "boton.click()\n",
    "\n",
    "driver=chrome_driver\n",
    "\n",
    "driver.execute_script(\"window.open('');\")\n",
    "time.sleep(2)\n",
    "driver.switch_to.window(driver.window_handles[1])\n",
    "driver.get(\"https://www.youtube.com/\")\n",
    "\n",
    "driver.execute_script(\"window.open('');\")\n",
    "time.sleep(2)\n",
    "driver.switch_to.window(driver.window_handles[2])\n",
    "driver.get(\"https://www.instagram.com/?hl=es-la\")\n",
    "\n",
    "time.sleep(2)\n",
    "driver.switch_to.window(driver.window_handles[1])\n",
    "driver.close()"
   ]
  }
 ],
 "metadata": {
  "kernelspec": {
   "display_name": "Python 3 (ipykernel)",
   "language": "python",
   "name": "python3"
  },
  "language_info": {
   "codemirror_mode": {
    "name": "ipython",
    "version": 3
   },
   "file_extension": ".py",
   "mimetype": "text/x-python",
   "name": "python",
   "nbconvert_exporter": "python",
   "pygments_lexer": "ipython3",
   "version": "3.9.7"
  }
 },
 "nbformat": 4,
 "nbformat_minor": 5
}
